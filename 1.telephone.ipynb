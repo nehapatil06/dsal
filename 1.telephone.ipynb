{
 "cells": [
  {
   "cell_type": "code",
   "execution_count": 1,
   "id": "1db2d373",
   "metadata": {},
   "outputs": [
    {
     "name": "stdout",
     "output_type": "stream",
     "text": [
      "Chaining - Telephone number for key 123456 : John Doe\n",
      "Linear Probing - Telephone number for key 123456 : John Doe\n"
     ]
    }
   ],
   "source": [
    "class TelephoneBook:\n",
    "    def __init__(self, size, collision_handling):\n",
    "        self.size = size\n",
    "        self.collision_handling = collision_handling\n",
    "        self.table = [None] * size\n",
    "\n",
    "    def hash_function(self, key):\n",
    "        return key % self.size\n",
    "\n",
    "    def insert(self, key, value):\n",
    "        index = self.hash_function(key)\n",
    "\n",
    "        if self.collision_handling == 'chaining':\n",
    "            if self.table[index] is None:\n",
    "                self.table[index] = []\n",
    "            self.table[index].append((key, value))\n",
    "        elif self.collision_handling == 'linear_probing':\n",
    "            while self.table[index] is not None:\n",
    "                index = (index + 1) % self.size\n",
    "            self.table[index] = (key, value)\n",
    "\n",
    "    def search(self, key):\n",
    "        index = self.hash_function(key)\n",
    "\n",
    "        if self.collision_handling == 'chaining':\n",
    "            if self.table[index] is None:\n",
    "                return None\n",
    "            for pair in self.table[index]:\n",
    "                if pair[0] == key:\n",
    "                    return pair[1]\n",
    "            return None\n",
    "        elif self.collision_handling == 'linear_probing':\n",
    "            while self.table[index] is not None:\n",
    "                if self.table[index][0] == key:\n",
    "                    return self.table[index][1]\n",
    "                index = (index + 1) % self.size\n",
    "            return None\n",
    "\n",
    "\n",
    "# Example usage\n",
    "telephone_book_chaining = TelephoneBook(10, 'chaining')\n",
    "telephone_book_chaining.insert(123456, 'John Doe')\n",
    "telephone_book_chaining.insert(789012, 'Jane Smith')\n",
    "telephone_book_chaining.insert(345678, 'Michael Johnson')\n",
    "\n",
    "telephone_book_linear_probing = TelephoneBook(10, 'linear_probing')\n",
    "telephone_book_linear_probing.insert(123456, 'John Doe')\n",
    "telephone_book_linear_probing.insert(789012, 'Jane Smith')\n",
    "telephone_book_linear_probing.insert(345678, 'Michael Johnson')\n",
    "\n",
    "# Searching for a telephone number\n",
    "key = 123456\n",
    "print(\"Chaining - Telephone number for key\", key, \":\", telephone_book_chaining.search(key))\n",
    "print(\"Linear Probing - Telephone number for key\", key, \":\", telephone_book_linear_probing.search(key))\n"
   ]
  },
  {
   "cell_type": "code",
   "execution_count": null,
   "id": "d559bb04",
   "metadata": {},
   "outputs": [],
   "source": []
  }
 ],
 "metadata": {
  "kernelspec": {
   "display_name": "Python [conda env:base] *",
   "language": "python",
   "name": "conda-base-py"
  },
  "language_info": {
   "codemirror_mode": {
    "name": "ipython",
    "version": 3
   },
   "file_extension": ".py",
   "mimetype": "text/x-python",
   "name": "python",
   "nbconvert_exporter": "python",
   "pygments_lexer": "ipython3",
   "version": "3.12.7"
  }
 },
 "nbformat": 4,
 "nbformat_minor": 5
}
