{
 "cells": [
  {
   "cell_type": "code",
   "execution_count": 1,
   "id": "c108137c-2ddf-4c5a-a159-59650d42dd53",
   "metadata": {},
   "outputs": [
    {
     "name": "stdout",
     "output_type": "stream",
     "text": [
      "Set 1: [1, 2, 3]\n",
      "Set 2: [3, 4, 5]\n",
      "Intersection: [3]\n",
      "Union: [1, 2, 3, 4, 5]\n",
      "Difference (Set 1 - Set 2): [1, 2]\n",
      "Set 1 is a subset of Set 2: False\n"
     ]
    }
   ],
   "source": [
    "class Set:\n",
    "    def __init__(self):\n",
    "        self.elements = []\n",
    "\n",
    "    def add(self, newElement):\n",
    "        if newElement not in self.elements:\n",
    "            self.elements.append(newElement)\n",
    "\n",
    "    def remove(self, element):\n",
    "        if element in self.elements:\n",
    "            self.elements.remove(element)\n",
    "\n",
    "    def contains(self, element):\n",
    "        return element in self.elements\n",
    "\n",
    "    def size(self):\n",
    "        return len(self.elements)\n",
    "\n",
    "    def iterator(self):\n",
    "        return iter(self.elements)\n",
    "\n",
    "    def intersection(self, otherSet):\n",
    "        intersectionSet = Set()\n",
    "        for element in self.elements:\n",
    "            if otherSet.contains(element):\n",
    "                intersectionSet.add(element)\n",
    "        return intersectionSet\n",
    "\n",
    "    def union(self, otherSet):\n",
    "        unionSet = Set()\n",
    "        unionSet.elements = self.elements.copy()\n",
    "        for element in otherSet.elements:\n",
    "            unionSet.add(element)\n",
    "        return unionSet\n",
    "    def difference(self, otherSet):\n",
    "        differenceSet = Set()\n",
    "        for element in self.elements:\n",
    "            if not otherSet.contains(element):\n",
    "                differenceSet.add(element)\n",
    "        return differenceSet\n",
    "    def subset(self, otherSet):\n",
    "        for element in self.elements:\n",
    "            if not otherSet.contains(element):\n",
    "                return False\n",
    "        return True\n",
    "set1 = Set()\n",
    "set1.add(1)\n",
    "set1.add(2)\n",
    "set1.add(3)\n",
    "\n",
    "set2 = Set()\n",
    "set2.add(3)\n",
    "set2.add(4)\n",
    "set2.add(5)\n",
    "\n",
    "print(\"Set 1:\", list(set1.iterator()))\n",
    "print(\"Set 2:\", list(set2.iterator()))\n",
    "print(\"Intersection:\", list(set1.intersection(set2).iterator()))\n",
    "print(\"Union:\", list(set1.union(set2).iterator()))\n",
    "print(\"Difference (Set 1 - Set 2):\", list(set1.difference(set2).iterator()))\n",
    "print(\"Set 1 is a subset of Set 2:\", set1.subset(set2))\n"
   ]
  },
  {
   "cell_type": "code",
   "execution_count": null,
   "id": "74864f0d-15d9-4178-aa11-fd08521b7906",
   "metadata": {},
   "outputs": [],
   "source": []
  }
 ],
 "metadata": {
  "kernelspec": {
   "display_name": "Python [conda env:base] *",
   "language": "python",
   "name": "conda-base-py"
  },
  "language_info": {
   "codemirror_mode": {
    "name": "ipython",
    "version": 3
   },
   "file_extension": ".py",
   "mimetype": "text/x-python",
   "name": "python",
   "nbconvert_exporter": "python",
   "pygments_lexer": "ipython3",
   "version": "3.12.7"
  }
 },
 "nbformat": 4,
 "nbformat_minor": 5
}
